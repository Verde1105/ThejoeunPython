{
 "cells": [
  {
   "cell_type": "code",
   "execution_count": 1,
   "metadata": {},
   "outputs": [
    {
     "name": "stdout",
     "output_type": "stream",
     "text": [
      "3단 [3, 6, 9, 12, 15, 18, 21, 24, 27]\n"
     ]
    }
   ],
   "source": [
    "li = [1,2,3,4,5,6,7,8,9]\n",
    "n_list = [x * 3 for x in li if x >= 1]\n",
    "\n",
    "print(\"3단\", n_list[:])"
   ]
  },
  {
   "cell_type": "code",
   "execution_count": 2,
   "metadata": {},
   "outputs": [
    {
     "name": "stdout",
     "output_type": "stream",
     "text": [
      "one\n"
     ]
    }
   ],
   "source": [
    "s = \"oneLine\"[:3]\n",
    "print(s)"
   ]
  },
  {
   "cell_type": "code",
   "execution_count": 3,
   "metadata": {},
   "outputs": [
    {
     "name": "stdout",
     "output_type": "stream",
     "text": [
      "oneLine\n",
      "oneline\n",
      "ONELINE\n",
      "ONElINE\n",
      "oneLine\n",
      "<built-in method rstrip of str object at 0x00000182EF433D30>\n",
      "2\n",
      "2\n",
      "1\n",
      "2\n",
      "False\n"
     ]
    }
   ],
   "source": [
    "v = \"oneLine\"\n",
    "print(v)\n",
    "\n",
    "v.lower()\n",
    "print(v.lower())\n",
    "\n",
    "v.upper()\n",
    "print(v.upper())\n",
    "\n",
    "v.swapcase()\n",
    "print(v.swapcase())\n",
    "\n",
    "v.lstrip()\n",
    "print(v.lstrip())\n",
    "\n",
    "v.rstrip()\n",
    "print(v.rstrip)\n",
    "\n",
    "v.count(\"n\")\n",
    "print(v.count(\"n\"))\n",
    "\n",
    "v.find(\"e\")\n",
    "print(v.find(\"e\"))\n",
    "\n",
    "v.index(\"n\")\n",
    "print(v.index(\"n\"))\n",
    "\n",
    "v.index(\"e\")\n",
    "print(v.index(\"e\"))\n",
    "\n",
    "v.startswith(\"i\")\n",
    "print(v.startswith(\"i\"))"
   ]
  },
  {
   "cell_type": "code",
   "execution_count": null,
   "metadata": {},
   "outputs": [],
   "source": []
  },
  {
   "cell_type": "code",
   "execution_count": null,
   "metadata": {},
   "outputs": [],
   "source": []
  }
 ],
 "metadata": {
  "kernelspec": {
   "display_name": "Python 3",
   "language": "python",
   "name": "python3"
  },
  "language_info": {
   "codemirror_mode": {
    "name": "ipython",
    "version": 3
   },
   "file_extension": ".py",
   "mimetype": "text/x-python",
   "name": "python",
   "nbconvert_exporter": "python",
   "pygments_lexer": "ipython3",
   "version": "3.10.10"
  },
  "orig_nbformat": 4
 },
 "nbformat": 4,
 "nbformat_minor": 2
}
