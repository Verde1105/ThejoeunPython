{
 "cells": [
  {
   "cell_type": "code",
   "execution_count": 1,
   "metadata": {},
   "outputs": [],
   "source": [
    "import seaborn as sns\n",
    "import pandas as pd\n",
    "import numpy as np"
   ]
  },
  {
   "cell_type": "code",
   "execution_count": 2,
   "metadata": {},
   "outputs": [],
   "source": [
    "titanic = sns.load_dataset(\"titanic\")"
   ]
  },
  {
   "cell_type": "code",
   "execution_count": 3,
   "metadata": {},
   "outputs": [
    {
     "name": "stdout",
     "output_type": "stream",
     "text": [
      "<class 'pandas.core.frame.DataFrame'>\n",
      "RangeIndex: 891 entries, 0 to 890\n",
      "Data columns (total 15 columns):\n",
      " #   Column       Non-Null Count  Dtype   \n",
      "---  ------       --------------  -----   \n",
      " 0   survived     891 non-null    int64   \n",
      " 1   pclass       891 non-null    int64   \n",
      " 2   sex          891 non-null    object  \n",
      " 3   age          714 non-null    float64 \n",
      " 4   sibsp        891 non-null    int64   \n",
      " 5   parch        891 non-null    int64   \n",
      " 6   fare         891 non-null    float64 \n",
      " 7   embarked     889 non-null    object  \n",
      " 8   class        891 non-null    category\n",
      " 9   who          891 non-null    object  \n",
      " 10  adult_male   891 non-null    bool    \n",
      " 11  deck         203 non-null    category\n",
      " 12  embark_town  889 non-null    object  \n",
      " 13  alive        891 non-null    object  \n",
      " 14  alone        891 non-null    bool    \n",
      "dtypes: bool(2), category(2), float64(2), int64(4), object(5)\n",
      "memory usage: 80.7+ KB\n"
     ]
    }
   ],
   "source": [
    "titanic.info()"
   ]
  },
  {
   "cell_type": "code",
   "execution_count": 4,
   "metadata": {},
   "outputs": [
    {
     "data": {
      "text/plain": [
       "0      0\n",
       "1      1\n",
       "2      1\n",
       "3      1\n",
       "4      0\n",
       "      ..\n",
       "886    0\n",
       "887    1\n",
       "888    0\n",
       "889    1\n",
       "890    0\n",
       "Name: survived, Length: 891, dtype: int64"
      ]
     },
     "execution_count": 4,
     "metadata": {},
     "output_type": "execute_result"
    }
   ],
   "source": [
    "titanic['survived']"
   ]
  },
  {
   "cell_type": "code",
   "execution_count": 5,
   "metadata": {},
   "outputs": [
    {
     "name": "stdout",
     "output_type": "stream",
     "text": [
      "사망자 수: 549\n",
      "생존자 수: 342\n"
     ]
    }
   ],
   "source": [
    "# 데이터셋 로드\n",
    "titanic = sns.load_dataset('titanic')\n",
    "\n",
    "# 사망자 구하기\n",
    "death_count = titanic[titanic['survived'] == 0]['survived'].count()\n",
    "\n",
    "print(\"사망자 수:\", death_count)\n",
    "print(\"생존자 수:\", titanic['survived'].count()-death_count)"
   ]
  },
  {
   "cell_type": "code",
   "execution_count": 6,
   "metadata": {},
   "outputs": [
    {
     "data": {
      "image/png": "[encoded data removed]",
      "text/plain": [
       "<Figure size 640x480 with 2 Axes>"
      ]
     },
     "metadata": {},
     "output_type": "display_data"
    }
   ],
   "source": [
    "import matplotlib.pyplot as plt\n",
    "\n",
    "# 데이터셋 로드\n",
    "titanic = sns.load_dataset('titanic')\n",
    "\n",
    "# 사망자와 생존자 그룹 나누기\n",
    "death_group = titanic[titanic['survived'] == 0]\n",
    "survived_group = titanic[titanic['survived'] == 1]\n",
    "\n",
    "# 사망자와 생존자 수\n",
    "death_count = death_group['survived'].count()\n",
    "survived_count = survived_group['survived'].count()\n",
    "\n",
    "data = pd.DataFrame({'Count': [death_count, survived_count],\n",
    "                     'Status': ['Death', 'Survived']})\n",
    "\n",
    "# 상자 그림(Box Plot) 그리기\n",
    "plt.subplot(1, 2, 1)\n",
    "sns.boxplot(data=data, x='Status', y='Count')\n",
    "plt.title('Box Plot')\n",
    "\n",
    "# 파이 그래프 그리기\n",
    "plt.subplot(1, 2, 2)\n",
    "sizes = data['Count']\n",
    "labels = data['Status']\n",
    "plt.pie(sizes, labels=labels, autopct='%.1f%%')\n",
    "plt.title('Pie Chart')\n",
    "\n",
    "\n",
    "plt.tight_layout()\n",
    "plt.show()\n"
   ]
  },
  {
   "cell_type": "code",
   "execution_count": 7,
   "metadata": {},
   "outputs": [],
   "source": [
    "titanic = sns.load_dataset('titanic')"
   ]
  },
  {
   "cell_type": "markdown",
   "metadata": {},
   "source": [
    "■ 타이타닉 데이터 분석"
   ]
  },
  {
   "cell_type": "code",
   "execution_count": 8,
   "metadata": {},
   "outputs": [
    {
     "name": "stdout",
     "output_type": "stream",
     "text": [
      "훈련 데이터 정확도: 1.0\n",
      "테스트 데이터 정확도: 1.0\n",
      "정확도: 1.0\n"
     ]
    }
   ],
   "source": [
    "from sklearn.model_selection import train_test_split\n",
    "from sklearn.linear_model import LogisticRegression\n",
    "from sklearn.impute import SimpleImputer\n",
    "from sklearn.preprocessing import OneHotEncoder\n",
    "import pandas as pd\n",
    "import seaborn as sns\n",
    "\n",
    "titanic = sns.load_dataset('titanic')\n",
    "\n",
    "# 생존한 승객과 생존하지 않은 승객을 모두 포함한 데이터를 사용\n",
    "X = titanic.drop('survived', axis=1)\n",
    "y = titanic['survived']\n",
    "\n",
    "# 결측값 처리\n",
    "imputer = SimpleImputer(strategy='most_frequent') #열에서 가장 빈도가 높은 값으로 대체\n",
    "X_imputed = imputer.fit_transform(X)  #결측값 대체한 결과 반환/ 대체된 결과인 X_imputed 변수\n",
    "\n",
    "# 범주형 데이터를 원핫 인코딩\n",
    "X_encoded = pd.get_dummies(pd.DataFrame(X_imputed))\n",
    "\n",
    "# 데이터를 학습용과 테스트용으로 분할\n",
    "X_train, X_test, y_train, y_test = train_test_split(X_encoded, y, random_state=100)\n",
    "\n",
    "# 로지스틱 회귀 모델 생성\n",
    "logreg = LogisticRegression()\n",
    "\n",
    "# 모델 학습\n",
    "logreg.fit(X_train, y_train)\n",
    "\n",
    "# 훈련 데이터에 대한 정확도 출력\n",
    "train_accuracy = logreg.score(X_train, y_train)\n",
    "print(\"훈련 데이터 정확도: {:.1f}\".format(train_accuracy))\n",
    "\n",
    "# 테스트 데이터에 대한 정확도 출력\n",
    "test_accuracy = logreg.score(X_test, y_test)\n",
    "print(\"테스트 데이터 정확도: {:.1f}\".format(test_accuracy))\n",
    "\n",
    "# 예측\n",
    "y_pred = logreg.predict(X_test)\n",
    "\n",
    "# 정확도 평가\n",
    "accuracy = logreg.score(X_test, y_test)\n",
    "print(\"정확도:\", accuracy)"
   ]
  },
  {
   "cell_type": "code",
   "execution_count": 9,
   "metadata": {},
   "outputs": [
    {
     "name": "stdout",
     "output_type": "stream",
     "text": [
      "훈련 데이터 정확도: 1.0\n",
      "테스트 데이터 정확도: 1.0\n",
      "정확도: 1.0\n"
     ]
    },
    {
     "name": "stderr",
     "output_type": "stream",
     "text": [
      "c:\\Users\\TJ\\AppData\\Local\\Programs\\Python\\Python39\\lib\\site-packages\\sklearn\\svm\\_classes.py:32: FutureWarning: The default value of `dual` will change from `True` to `'auto'` in 1.5. Set the value of `dual` explicitly to suppress the warning.\n",
      "  warnings.warn(\n"
     ]
    }
   ],
   "source": [
    "from sklearn.svm import LinearSVC\n",
    "\n",
    "# 서브 백터 머신 모델 생성\n",
    "svm = LinearSVC()\n",
    "\n",
    "#모델 학습\n",
    "svm.fit(X_train,y_train)\n",
    "\n",
    "# 훈련 데이터에 대한 정확도 출력\n",
    "train_accuracy = svm.score(X_train,y_train)\n",
    "print(\"훈련 데이터 정확도: {:.1f}\".format(train_accuracy))\n",
    "\n",
    "# 테스트 데이터에 대한 정확도 출력\n",
    "test_accuracy = svm.score(X_test, y_test)\n",
    "print(\"테스트 데이터 정확도: {:.1f}\".format(test_accuracy))\n",
    "\n",
    "# 예측\n",
    "y_pred = svm.predict(X_test)\n",
    "\n",
    "# 정확도 평가\n",
    "accuracy = svm.score(X_test, y_test)\n",
    "print(\"정확도:\", accuracy)"
   ]
  },
  {
   "cell_type": "code",
   "execution_count": 10,
   "metadata": {},
   "outputs": [
    {
     "name": "stdout",
     "output_type": "stream",
     "text": [
      "훈련 데이터 정확도: 0.944\n",
      "테스트 데이터 정확도: 0.852\n",
      "정확도: 0.8516422426363371\n"
     ]
    }
   ],
   "source": [
    "from sklearn.neighbors import KNeighborsRegressor\n",
    "\n",
    "# K-최근접 이웃 모델 생성\n",
    "clf =KNeighborsRegressor(n_neighbors=3)\n",
    "\n",
    "# 모델 훈련\n",
    "clf.fit(X_train,y_train)\n",
    "\n",
    "# 훈련 데이터에 대한 정확도 출력\n",
    "train_accuracy = clf.score(X_train,y_train)\n",
    "print(\"훈련 데이터 정확도: {:.3f}\".format(train_accuracy))\n",
    "\n",
    "# 테스트 데이터에 대한 정확도 출력\n",
    "test_accuracy = clf.score(X_test, y_test)\n",
    "print(\"테스트 데이터 정확도: {:.3f}\".format(test_accuracy))\n",
    "\n",
    "# 예측\n",
    "y_pred = clf.predict(X_test)\n",
    "\n",
    "# 정확도 평가\n",
    "accuracy = clf.score(X_test, y_test)\n",
    "print(\"정확도:\", accuracy)"
   ]
  },
  {
   "cell_type": "markdown",
   "metadata": {},
   "source": [
    "■ 아이리스 데이터분석"
   ]
  },
  {
   "cell_type": "code",
   "execution_count": 11,
   "metadata": {},
   "outputs": [],
   "source": [
    "from sklearn.model_selection import train_test_split\n",
    "from sklearn.impute import SimpleImputer\n",
    "from sklearn.preprocessing import OneHotEncoder\n",
    "import pandas as pd\n",
    "import seaborn as sns"
   ]
  },
  {
   "cell_type": "code",
   "execution_count": 12,
   "metadata": {},
   "outputs": [
    {
     "name": "stdout",
     "output_type": "stream",
     "text": [
      "훈련 데이터 정확도 :0.973\n",
      "테스트 데이터 정확도 :1.00\n",
      "정확도: 1.0\n"
     ]
    },
    {
     "name": "stderr",
     "output_type": "stream",
     "text": [
      "c:\\Users\\TJ\\AppData\\Local\\Programs\\Python\\Python39\\lib\\site-packages\\sklearn\\neural_network\\_multilayer_perceptron.py:691: ConvergenceWarning: Stochastic Optimizer: Maximum iterations (200) reached and the optimization hasn't converged yet.\n",
      "  warnings.warn(\n"
     ]
    }
   ],
   "source": [
    "from sklearn.neural_network import MLPClassifier\n",
    "\n",
    "iris = sns.load_dataset('iris')\n",
    "\n",
    "# 데이터를 학습용과 테스트용으로 분할\n",
    "X_train, X_test, y_train, y_test = train_test_split(iris[['sepal_length', 'sepal_width', 'petal_length', 'petal_width']], iris['species'], random_state=100)\n",
    "\n",
    "# 신경망 모델 생성\n",
    "mlp= MLPClassifier()\n",
    "\n",
    "# 모델 훈련\n",
    "mlp.fit(X_train,y_train)\n",
    "# 훈련 데이터에 대한 정확도 출력\n",
    "print('훈련 데이터 정확도 :{:.3f}'.format(mlp.score(X_train,y_train)))\n",
    "# 테스트 데이터에 대한 정확도 출력\n",
    "print(\"테스트 데이터 정확도 :{:.2f}\".format(mlp.score(X_test,y_test)))\n",
    "\n",
    "# 예측\n",
    "y_pred = mlp.predict(X_test)\n",
    "\n",
    "# 정확도 평가\n",
    "accuracy = mlp.score(X_test,y_test)\n",
    "print(\"정확도:\",accuracy)"
   ]
  },
  {
   "cell_type": "code",
   "execution_count": 13,
   "metadata": {},
   "outputs": [
    {
     "name": "stdout",
     "output_type": "stream",
     "text": [
      "훈련 데이터 정확도 :0.964\n",
      "테스트 데이터 정확도 :0.95\n",
      "정확도: 0.9473684210526315\n"
     ]
    },
    {
     "name": "stderr",
     "output_type": "stream",
     "text": [
      "c:\\Users\\TJ\\AppData\\Local\\Programs\\Python\\Python39\\lib\\site-packages\\sklearn\\linear_model\\_logistic.py:460: ConvergenceWarning: lbfgs failed to converge (status=1):\n",
      "STOP: TOTAL NO. of ITERATIONS REACHED LIMIT.\n",
      "\n",
      "Increase the number of iterations (max_iter) or scale the data as shown in:\n",
      "    https://scikit-learn.org/stable/modules/preprocessing.html\n",
      "Please also refer to the documentation for alternative solver options:\n",
      "    https://scikit-learn.org/stable/modules/linear_model.html#logistic-regression\n",
      "  n_iter_i = _check_optimize_result(\n"
     ]
    }
   ],
   "source": [
    "from sklearn.linear_model import LogisticRegression\n",
    "\n",
    "# 로지스틱 회귀 모델 생성\n",
    "logreg = LogisticRegression()\n",
    "\n",
    "#모델 훈련\n",
    "logreg.fit(X_train, y_train)\n",
    "# 훈련 데이터에 대한 정확도 출력\n",
    "print('훈련 데이터 정확도 :{:.3f}'.format(logreg.score(X_train,y_train)))\n",
    "# 테스트 데이터에 대한 정확도 출력\n",
    "print(\"테스트 데이터 정확도 :{:.2f}\".format(logreg.score(X_test,y_test)))\n",
    "\n",
    "y_pred = logreg.predict(X_test)\n",
    "\n",
    "#정확도 평가\n",
    "accuracy = logreg.score(X_test,y_test)\n",
    "print(\"정확도:\", accuracy)\n"
   ]
  },
  {
   "cell_type": "code",
   "execution_count": 14,
   "metadata": {},
   "outputs": [
    {
     "name": "stdout",
     "output_type": "stream",
     "text": [
      "훈련 데이터 정확도 :1.000\n",
      "테스트 데이터 정확도 :0.95\n",
      "정확도: 0.9473684210526315\n"
     ]
    }
   ],
   "source": [
    "from sklearn.tree import DecisionTreeClassifier\n",
    "\n",
    "# 의사결정트리 모델 생성\n",
    "tree = DecisionTreeClassifier()\n",
    "\n",
    "#모델훈련\n",
    "tree.fit(X_train,y_train)\n",
    "# 훈련 데이터에 대한 정확도 출력\n",
    "print('훈련 데이터 정확도 :{:.3f}'.format(tree.score(X_train,y_train)))\n",
    "# 테스트 데이터에 대한 정확도 출력\n",
    "print(\"테스트 데이터 정확도 :{:.2f}\".format(tree.score(X_test,y_test)))\n",
    "\n",
    "y_pred = tree.predict(X_test)\n",
    "\n",
    "#정확도 평가\n",
    "accuracy = tree.score(X_test,y_test)\n",
    "print(\"정확도:\", accuracy)"
   ]
  },
  {
   "cell_type": "code",
   "execution_count": 15,
   "metadata": {},
   "outputs": [
    {
     "name": "stdout",
     "output_type": "stream",
     "text": [
      "훈련 데이터 정확도 :0.955\n",
      "테스트 데이터 정확도 :0.947\n",
      "정확도: 0.9473684210526315\n"
     ]
    }
   ],
   "source": [
    "from sklearn.naive_bayes import GaussianNB\n",
    "\n",
    "# 나이브 베이즈 모델 생성\n",
    "nb = GaussianNB()\n",
    "\n",
    "#모델훈련\n",
    "nb.fit(X_train,y_train)\n",
    "# 훈련 데이터에 대한 정확도 출력\n",
    "print('훈련 데이터 정확도 :{:.3f}'.format(nb.score(X_train,y_train)))\n",
    "# 테스트 데이터에 대한 정확도 출력\n",
    "print(\"테스트 데이터 정확도 :{:.3f}\".format(nb.score(X_test,y_test)))\n",
    "\n",
    "y_pred = nb.predict(X_test)\n",
    "\n",
    "#정확도 평가\n",
    "accuracy = nb.score(X_test,y_test)\n",
    "print(\"정확도:\", accuracy)"
   ]
  },
  {
   "cell_type": "code",
   "execution_count": 16,
   "metadata": {},
   "outputs": [
    {
     "name": "stdout",
     "output_type": "stream",
     "text": [
      "훈련 데이터 정확도 :1.000\n",
      "테스트 데이터 정확도 :0.947\n",
      "정확도: 0.9473684210526315\n"
     ]
    }
   ],
   "source": [
    "from sklearn.ensemble import RandomForestClassifier\n",
    "\n",
    "# 랜덤 포레스트 모델 생성\n",
    "rf = RandomForestClassifier()\n",
    "\n",
    "#모델훈련\n",
    "rf.fit(X_train,y_train)\n",
    "# 훈련 데이터에 대한 정확도 출력\n",
    "print('훈련 데이터 정확도 :{:.3f}'.format(rf.score(X_train,y_train)))\n",
    "# 테스트 데이터에 대한 정확도 출력\n",
    "print(\"테스트 데이터 정확도 :{:.3f}\".format(rf.score(X_test,y_test)))\n",
    "\n",
    "y_pred = rf.predict(X_test)\n",
    "\n",
    "#정확도 평가\n",
    "accuracy = rf.score(X_test,y_test)\n",
    "print(\"정확도:\", accuracy)"
   ]
  },
  {
   "cell_type": "code",
   "execution_count": 17,
   "metadata": {},
   "outputs": [
    {
     "name": "stdout",
     "output_type": "stream",
     "text": [
      "훈련 데이터 정확도 :1.000\n",
      "테스트 데이터 정확도 :0.947\n",
      "정확도: 0.9473684210526315\n"
     ]
    }
   ],
   "source": [
    "from sklearn.ensemble import GradientBoostingClassifier\n",
    "\n",
    "# 그래디언트 부스팅 모델 생성\n",
    "gb = GradientBoostingClassifier()\n",
    "\n",
    "#모델훈련\n",
    "gb.fit(X_train,y_train)\n",
    "# 훈련 데이터에 대한 정확도 출력\n",
    "print('훈련 데이터 정확도 :{:.3f}'.format(gb.score(X_train,y_train)))\n",
    "# 테스트 데이터에 대한 정확도 출력\n",
    "print(\"테스트 데이터 정확도 :{:.3f}\".format(gb.score(X_test,y_test)))\n",
    "\n",
    "y_pred = gb.predict(X_test)\n",
    "\n",
    "#정확도 평가\n",
    "accuracy = gb.score(X_test,y_test)\n",
    "print(\"정확도:\", accuracy)"
   ]
  },
  {
   "cell_type": "markdown",
   "metadata": {},
   "source": [
    "■ 다이아몬드 데이터분석"
   ]
  },
  {
   "cell_type": "code",
   "execution_count": 18,
   "metadata": {},
   "outputs": [],
   "source": [
    "from sklearn.model_selection import train_test_split\n",
    "from sklearn.impute import SimpleImputer\n",
    "from sklearn.preprocessing import OneHotEncoder\n",
    "import pandas as pd\n",
    "import seaborn as sns\n",
    "import numpy as np\n",
    "from sklearn.metrics import mean_squared_error, r2_score\n"
   ]
  },
  {
   "cell_type": "code",
   "execution_count": 19,
   "metadata": {},
   "outputs": [
    {
     "name": "stdout",
     "output_type": "stream",
     "text": [
      "<class 'pandas.core.frame.DataFrame'>\n",
      "RangeIndex: 53940 entries, 0 to 53939\n",
      "Data columns (total 10 columns):\n",
      " #   Column   Non-Null Count  Dtype   \n",
      "---  ------   --------------  -----   \n",
      " 0   carat    53940 non-null  float64 \n",
      " 1   cut      53940 non-null  category\n",
      " 2   color    53940 non-null  category\n",
      " 3   clarity  53940 non-null  category\n",
      " 4   depth    53940 non-null  float64 \n",
      " 5   table    53940 non-null  float64 \n",
      " 6   price    53940 non-null  int64   \n",
      " 7   x        53940 non-null  float64 \n",
      " 8   y        53940 non-null  float64 \n",
      " 9   z        53940 non-null  float64 \n",
      "dtypes: category(3), float64(6), int64(1)\n",
      "memory usage: 3.0 MB\n"
     ]
    }
   ],
   "source": [
    "dia = sns.load_dataset('diamonds')\n",
    "dia.info()"
   ]
  },
  {
   "cell_type": "code",
   "execution_count": 20,
   "metadata": {},
   "outputs": [],
   "source": [
    "# 데이터셋을 특성(X)과 타겟 변수(y)로 분리\n",
    "X = dia[['carat', 'cut', 'color', 'clarity', 'depth', 'table']]\n",
    "y = dia['price']\n",
    "\n",
    "# 데이터 전처리\n",
    "categorical_features = ['cut', 'color', 'clarity'] # 문자형\n",
    "numeric_features = ['carat', 'depth', 'table'] # 숫자형\n",
    "\n",
    "# 범주형 데이터를 원핫 인코딩\n",
    "encoder = OneHotEncoder(drop='first')\n",
    "X_encoded = pd.get_dummies(X, columns=categorical_features)\n",
    "X_encoded = encoder.fit_transform(X_encoded)\n",
    "\n",
    "# 숫자형 특성에서 결측값을 보정\n",
    "imputer = SimpleImputer(strategy='median') # 결측치 중앙값\n",
    "X_imputed = imputer.fit_transform(X_encoded)\n",
    "\n",
    "# 데이터 집합을 학습 세트와 테스트 세트로 분할\n",
    "X_train, X_test, y_train, y_test = train_test_split(X_imputed, y, test_size=0.2, random_state=100)\n"
   ]
  },
  {
   "cell_type": "code",
   "execution_count": 21,
   "metadata": {},
   "outputs": [
    {
     "name": "stdout",
     "output_type": "stream",
     "text": [
      "예측값: [2250.51040834 7562.55959268 1089.45903914 ... 3352.19370933 4575.60645828\n",
      " 3061.59681314]\n",
      "RMSE: 1134.7993509620778\n",
      "R^2: 0.9173791479453697\n"
     ]
    }
   ],
   "source": [
    "from sklearn.linear_model import LinearRegression\n",
    "\n",
    "# 훈련 모델 생성 및 훈련\n",
    "lr = LinearRegression()\n",
    "lr.fit(X_train, y_train)\n",
    "\n",
    "# 예측\n",
    "y_pred = lr.predict(X_test)\n",
    "\n",
    "# RMSE 계산\n",
    "rmse = np.sqrt(mean_squared_error(y_test, y_pred))\n",
    "\n",
    "# R^2 계산\n",
    "r2 = r2_score(y_test, y_pred)\n",
    "\n",
    "# 예측값 출력\n",
    "print(\"예측값:\", y_pred)\n",
    "print(\"RMSE:\", rmse) #평균제곱근의 오차\n",
    "print(\"R^2:\", r2) # 0,1,음수로 측정치 판단/ 1에 가까울 수록 예측치가 맞다\n"
   ]
  },
  {
   "cell_type": "code",
   "execution_count": 22,
   "metadata": {},
   "outputs": [
    {
     "name": "stdout",
     "output_type": "stream",
     "text": [
      "예측값: [2244.62902973 7538.81248736 1145.69163995 ... 3323.13574504 4592.59133904\n",
      " 3155.15341938]\n",
      "RMSE: 1079.3934369483734\n",
      "R^2: 0.9252500238925236\n"
     ]
    }
   ],
   "source": [
    "from sklearn.linear_model import Ridge\n",
    "\n",
    "# 훈련 모델 생성 및 훈련\n",
    "rd = Ridge()\n",
    "rd.fit(X_train, y_train)\n",
    "\n",
    "# 예측\n",
    "y_pred = rd.predict(X_test)\n",
    "\n",
    "# RMSE 계산\n",
    "rmse = np.sqrt(mean_squared_error(y_test, y_pred))\n",
    "\n",
    "# R^2 계산\n",
    "r2 = r2_score(y_test, y_pred)\n",
    "\n",
    "# 예측값 출력\n",
    "print(\"예측값:\", y_pred)\n",
    "print(\"RMSE:\", rmse) #평균제곱근의 오차\n",
    "print(\"R^2:\", r2) # 0,1,음수로 측정치 판단/ 1에 가까울 수록 예측치가 맞다\n",
    "\n"
   ]
  },
  {
   "cell_type": "code",
   "execution_count": 23,
   "metadata": {},
   "outputs": [
    {
     "name": "stdout",
     "output_type": "stream",
     "text": [
      "예측값: [2271.86329706 7622.25245695 1300.51950814 ... 3254.36892662 5257.9332213\n",
      " 3750.62013865]\n",
      "RMSE: 1286.7923899106775\n",
      "R^2: 0.893764790264298\n"
     ]
    }
   ],
   "source": [
    "from sklearn.linear_model import Lasso\n",
    "\n",
    "# 훈련 모델 생성 및 훈련\n",
    "ls = Lasso()\n",
    "ls.fit(X_train, y_train)\n",
    "\n",
    "# 예측\n",
    "y_pred = ls.predict(X_test)\n",
    "\n",
    "# RMSE 계산\n",
    "rmse = np.sqrt(mean_squared_error(y_test, y_pred))\n",
    "\n",
    "# R^2 계산\n",
    "r2 = r2_score(y_test, y_pred)\n",
    "\n",
    "# 예측값 출력\n",
    "print(\"예측값:\", y_pred)\n",
    "print(\"RMSE:\", rmse) #평균제곱근의 오차\n",
    "print(\"R^2:\", r2) # 0,1,음수로 측정치 판단/ 1에 가까울 수록 예측치가 맞다"
   ]
  },
  {
   "cell_type": "code",
   "execution_count": 24,
   "metadata": {},
   "outputs": [
    {
     "name": "stdout",
     "output_type": "stream",
     "text": [
      "예측값: [3598.76361663 3732.80039457 3872.24114539 ... 3548.55147343 4054.21682074\n",
      " 4446.29622489]\n",
      "RMSE: 3821.9461390685774\n",
      "R^2: 0.06282512510915839\n"
     ]
    }
   ],
   "source": [
    "from sklearn.linear_model import ElasticNet\n",
    "\n",
    "# 훈련 모델 생성 및 훈련\n",
    "esn = ElasticNet()\n",
    "esn.fit(X_train, y_train)\n",
    "\n",
    "# 예측\n",
    "y_pred = esn.predict(X_test)\n",
    "\n",
    "# RMSE 계산\n",
    "rmse = np.sqrt(mean_squared_error(y_test, y_pred))\n",
    "\n",
    "# R^2 계산\n",
    "r2 = r2_score(y_test, y_pred)\n",
    "\n",
    "# 예측값 출력\n",
    "print(\"예측값:\", y_pred)\n",
    "print(\"RMSE:\", rmse) #평균제곱근의 오차\n",
    "print(\"R^2:\", r2) # 0,1,음수로 측정치 판단/ 1에 가까울 수록 예측치가 맞다"
   ]
  },
  {
   "cell_type": "code",
   "execution_count": 25,
   "metadata": {},
   "outputs": [
    {
     "name": "stdout",
     "output_type": "stream",
     "text": [
      "예측값: [1900. 8346. 1287. ... 2952. 4372. 3187.]\n",
      "RMSE: 1143.4680679148682\n",
      "R^2: 0.9161120475272736\n"
     ]
    }
   ],
   "source": [
    "from sklearn.tree import DecisionTreeRegressor\n",
    "\n",
    "# 훈련 모델 생성 및 훈련\n",
    "tree = DecisionTreeRegressor()\n",
    "tree.fit(X_train, y_train)\n",
    "\n",
    "# 예측\n",
    "y_pred = tree.predict(X_test)\n",
    "\n",
    "# RMSE 계산\n",
    "rmse = np.sqrt(mean_squared_error(y_test, y_pred))\n",
    "\n",
    "# R^2 계산\n",
    "r2 = r2_score(y_test, y_pred)\n",
    "\n",
    "# 예측값 출력\n",
    "print(\"예측값:\", y_pred)\n",
    "print(\"RMSE:\", rmse) #평균제곱근의 오차\n",
    "print(\"R^2:\", r2) # 0,1,음수로 측정치 판단/ 1에 가까울 수록 예측치가 맞다"
   ]
  },
  {
   "cell_type": "code",
   "execution_count": 26,
   "metadata": {},
   "outputs": [
    {
     "name": "stdout",
     "output_type": "stream",
     "text": [
      "예측값: [4041.69350494 4149.24945986 3108.08959857 ... 3618.4829936  4174.99335216\n",
      " 4282.54930708]\n",
      "RMSE: 2811.962629319032\n",
      "R^2: 0.4926932962187889\n"
     ]
    }
   ],
   "source": [
    "from sklearn.ensemble import GradientBoostingRegressor\n",
    "\n",
    "# 훈련 모델 생성 및 훈련\n",
    "gbr = GradientBoostingRegressor()\n",
    "gbr.fit(X_train, y_train)\n",
    "\n",
    "# 예측\n",
    "y_pred = gbr.predict(X_test)\n",
    "\n",
    "# RMSE 계산\n",
    "rmse = np.sqrt(mean_squared_error(y_test, y_pred))\n",
    "\n",
    "# R^2 계산\n",
    "r2 = r2_score(y_test, y_pred)\n",
    "\n",
    "# 예측값 출력\n",
    "print(\"예측값:\", y_pred)\n",
    "print(\"RMSE:\", rmse) #평균제곱근의 오차\n",
    "print(\"R^2:\", r2) # 0,1,음수로 측정치 판단/ 1에 가까울 수록 예측치가 맞다"
   ]
  }
 ],
 "metadata": {
  "kernelspec": {
   "display_name": "Python 3",
   "language": "python",
   "name": "python3"
  },
  "language_info": {
   "codemirror_mode": {
    "name": "ipython",
    "version": 3
   },
   "file_extension": ".py",
   "mimetype": "text/x-python",
   "name": "python",
   "nbconvert_exporter": "python",
   "pygments_lexer": "ipython3",
   "version": "3.9.0"
  },
  "orig_nbformat": 4
 },
 "nbformat": 4,
 "nbformat_minor": 2
}
